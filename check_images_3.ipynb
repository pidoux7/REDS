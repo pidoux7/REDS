{
 "cells": [
  {
   "cell_type": "code",
   "execution_count": null,
   "metadata": {},
   "outputs": [],
   "source": [
    "import matplotlib.pyplot as plt\n",
    "import pickle\n",
    "import pandas as pd\n"
   ]
  },
  {
   "cell_type": "code",
   "execution_count": null,
   "metadata": {},
   "outputs": [],
   "source": [
    "dossier = \"flower\"\n",
    "hashtag = \"flower\""
   ]
  },
  {
   "cell_type": "code",
   "execution_count": null,
   "metadata": {},
   "outputs": [],
   "source": [
    "with open(f'{dossier}/dataframe_{hashtag}_1.pkl', 'rb') as file :\n",
    "    df1 = pickle.load(file)\n",
    "\n",
    "with open(f'{dossier}/dataframe_{hashtag}_2.pkl', 'rb') as file :\n",
    "    df2 = pickle.load(file)\n",
    "\n",
    "with open(f'{dossier}/dataframe_{hashtag}_3.pkl', 'rb') as file :\n",
    "    df3 = pickle.load(file)"
   ]
  },
  {
   "cell_type": "code",
   "execution_count": null,
   "metadata": {},
   "outputs": [],
   "source": [
    "merged_df = pd.concat([df1, df2, df3], ignore_index=True)"
   ]
  },
  {
   "cell_type": "code",
   "execution_count": null,
   "metadata": {},
   "outputs": [],
   "source": [
    "df1 = None\n",
    "df2 = None\n",
    "df3 = None"
   ]
  },
  {
   "cell_type": "code",
   "execution_count": null,
   "metadata": {},
   "outputs": [],
   "source": [
    "len(merged_df)"
   ]
  },
  {
   "cell_type": "markdown",
   "metadata": {},
   "source": [
    "# Affichage de toutes les images récupérées"
   ]
  },
  {
   "cell_type": "code",
   "execution_count": null,
   "metadata": {},
   "outputs": [],
   "source": [
    "def affiche_images(liste_images, number_one, figsize=(20, 400)):\n",
    "\n",
    "    images_per_row = 5\n",
    "    num_rows = (len(liste_images) + images_per_row - 1) // images_per_row\n",
    "\n",
    "\n",
    "    fig, axs = plt.subplots(num_rows, images_per_row, figsize=figsize) \n",
    "\n",
    "    for i, image in enumerate(liste_images):\n",
    "        row = i // images_per_row\n",
    "        col = i % images_per_row\n",
    "        ax = axs[row, col]\n",
    "\n",
    "        ax.imshow(image)\n",
    "        ax.set_title(f\"Image {i+number_one}\")\n",
    "        ax.axis('off')\n",
    "\n",
    "    for i in range(len(liste_images), num_rows * images_per_row):\n",
    "        row = i // images_per_row\n",
    "        col = i % images_per_row\n",
    "        axs[row, col].axis('off')\n",
    "\n",
    "    plt.tight_layout()  \n",
    "    plt.show()"
   ]
  },
  {
   "cell_type": "code",
   "execution_count": null,
   "metadata": {},
   "outputs": [],
   "source": [
    "images_500 = merged_df.iloc[:]['image'][:500]\n",
    "\n",
    "affiche_images(images_500,0)"
   ]
  },
  {
   "cell_type": "code",
   "execution_count": null,
   "metadata": {},
   "outputs": [],
   "source": [
    "images_500 = merged_df.iloc[:]['image'][500:1000]\n",
    "\n",
    "affiche_images(images_500,500)"
   ]
  },
  {
   "cell_type": "code",
   "execution_count": null,
   "metadata": {},
   "outputs": [],
   "source": [
    "images_500 = merged_df.iloc[:]['image'][1000:]\n",
    "\n",
    "affiche_images(images_500,1000)"
   ]
  },
  {
   "cell_type": "markdown",
   "metadata": {},
   "source": [
    "# Affichage des images considérées mal classées"
   ]
  },
  {
   "cell_type": "code",
   "execution_count": null,
   "metadata": {},
   "outputs": [],
   "source": [
    "idx_liste_img_pb = [5, 9, 14, 15, 17, 19, 27, 29, 30, 31, 35, 36, 38, 39, 41, 44, 46, 47, 58, 62, 63, 64, 65, 69, 71, 72, 86, 94, 95, 99, 101, 107, 110, 115, 120, 121, 126, 127, 128, 130, 131, 133, 135, 136, 138, 139, 140, 145, 151, 152, 153, 162, 175, 178, 181, 182, 183, 184, 190, 198, 199, 200, 201, 212, 213,221, 222, 223, 224, 235, 226, 227, 228, 229, 230, 244, 247, 248, 249, 250, 251, 252, 253, 254, 259, 268, 269, 274, 285, 299, 304, 305, 309, 331, 342, 343, 344, 345, 346, 347, 348, 349, 364, 365, 379, 381, 382, 389, 391, 392, 393, 394, 400, 407, 410, 411, 412, 413, 414, 415, 417, 418, 419, 420, 421, 422, 423, 424, 440, 441, 443, 444, 447, 451, 564, 465, 467, 486, 490, 494, 496, 497, 505, 511, 512, 522, 528, 536, 539, 547, 553, 558, 559, 562, 569, 574, 577, 580, 581, 582, 588, 595, 598, 599, 600, 601, 602, 605, 606, 607, 608, 609, 610, 613, 624, 625, 627, 628, 638, 643, 645, 653, 654, 666, 667, 668, 669, 670, 684, 686, 689, 692, 709, 717, 718, 719, 720, 723, 729, 733, 745, 758, 759, 778, 784, 790, 797, 800, 803, 804, 812, 813, 817, 824, 826, 830, 834, 835, 853, 855, 857, 858, 861, 865, 873, 882, 883, 885, 887, 892, 900, 901, 902, 906, 911, 912, 926, 935, 962, 985, 987, 1019, 1020, 1022, 1026, 1055, 1056, 1075, 1076, 1079, 1080, 1087, 1092, 1093, 1099, 1101, 1102, 1103, 1111, 1113, 1114, 1132, 1133, 1138, 1139, 1148, 1150, 1156, 1160, 1161, 1171, 1172, 1174, 1188, 1191, 1194, 1195, 1202, 1203, 1227, 1233, 1245, 1248, 1249, 1276, 1278, 1286, 1287, 1291, 1292, 1293, 1302, 1327, 1341, 1345, 1361, 1372, 1373, 1382, 1385, 1408, 1411, 1415, 1419, 1425, 1431, 1432, 1436, 1449, 1450, 1453, 1454, 1462, 1490, 1494, 1506, 1507, 1508, 1518, 1526, 1538, 1542]   \n",
    "liste_img_pb = merged_df.iloc[idx_liste_img_pb]['image']"
   ]
  },
  {
   "cell_type": "code",
   "execution_count": null,
   "metadata": {},
   "outputs": [],
   "source": [
    "#affiche_images(liste_img_pb, figsize=(15,15))"
   ]
  },
  {
   "cell_type": "markdown",
   "metadata": {},
   "source": [
    "# Enlève les images mal classées"
   ]
  },
  {
   "cell_type": "code",
   "execution_count": null,
   "metadata": {},
   "outputs": [],
   "source": [
    "df = merged_df.drop(idx_liste_img_pb)\n",
    "merged_df = None"
   ]
  },
  {
   "cell_type": "code",
   "execution_count": null,
   "metadata": {},
   "outputs": [],
   "source": [
    "len(df)"
   ]
  },
  {
   "cell_type": "code",
   "execution_count": null,
   "metadata": {},
   "outputs": [],
   "source": [
    "df = df.head(1000)"
   ]
  },
  {
   "cell_type": "code",
   "execution_count": null,
   "metadata": {},
   "outputs": [],
   "source": [
    "len(df)"
   ]
  },
  {
   "cell_type": "code",
   "execution_count": null,
   "metadata": {},
   "outputs": [],
   "source": [
    "#images = df.iloc[:]['image']\n",
    "#affiche_images(images)\n"
   ]
  },
  {
   "cell_type": "code",
   "execution_count": null,
   "metadata": {},
   "outputs": [],
   "source": [
    "df1 = df.iloc[:500]\n",
    "df2 = df.iloc[500:]\n",
    "df = None"
   ]
  },
  {
   "cell_type": "code",
   "execution_count": null,
   "metadata": {},
   "outputs": [],
   "source": [
    "with open(f'{dossier}/dataframe_{hashtag}_final_1.pkl', 'wb') as file : \n",
    "    pickle.dump(df1, file)\n"
   ]
  },
  {
   "cell_type": "code",
   "execution_count": null,
   "metadata": {},
   "outputs": [],
   "source": [
    "with open(f'{dossier}/dataframe_{hashtag}_final_2.pkl', 'wb') as file : \n",
    "    pickle.dump(df2, file)\n"
   ]
  },
  {
   "cell_type": "code",
   "execution_count": null,
   "metadata": {},
   "outputs": [],
   "source": []
  }
 ],
 "metadata": {
  "kernelspec": {
   "display_name": "Python 3",
   "language": "python",
   "name": "python3"
  },
  "language_info": {
   "codemirror_mode": {
    "name": "ipython",
    "version": 3
   },
   "file_extension": ".py",
   "mimetype": "text/x-python",
   "name": "python",
   "nbconvert_exporter": "python",
   "pygments_lexer": "ipython3",
   "version": "3.10.12"
  }
 },
 "nbformat": 4,
 "nbformat_minor": 2
}
