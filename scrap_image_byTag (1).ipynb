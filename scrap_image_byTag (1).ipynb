{
  "cells": [
    {
      "cell_type": "code",
      "execution_count": null,
      "metadata": {
        "colab": {
          "base_uri": "https://localhost:8080/"
        },
        "id": "tYGKcYs2Y5ED",
        "outputId": "74315b4b-a069-4fd1-e64d-ebf5506740c2"
      },
      "outputs": [
        {
          "name": "stdout",
          "output_type": "stream",
          "text": [
            "Collecting selenium\n",
            "  Downloading selenium-4.14.0-py3-none-any.whl (9.9 MB)\n",
            "\u001b[2K     \u001b[90m━━━━━━━━━━━━━━━━━━━━━━━━━━━━━━━━━━━━━━━━\u001b[0m \u001b[32m9.9/9.9 MB\u001b[0m \u001b[31m56.3 MB/s\u001b[0m eta \u001b[36m0:00:00\u001b[0m\n",
            "\u001b[?25hRequirement already satisfied: urllib3[socks]<3,>=1.26 in /usr/local/lib/python3.10/dist-packages (from selenium) (2.0.7)\n",
            "Collecting trio~=0.17 (from selenium)\n",
            "  Downloading trio-0.22.2-py3-none-any.whl (400 kB)\n",
            "\u001b[2K     \u001b[90m━━━━━━━━━━━━━━━━━━━━━━━━━━━━━━━━━━━━━━━━\u001b[0m \u001b[32m400.2/400.2 kB\u001b[0m \u001b[31m39.2 MB/s\u001b[0m eta \u001b[36m0:00:00\u001b[0m\n",
            "\u001b[?25hCollecting trio-websocket~=0.9 (from selenium)\n",
            "  Downloading trio_websocket-0.11.1-py3-none-any.whl (17 kB)\n",
            "Requirement already satisfied: certifi>=2021.10.8 in /usr/local/lib/python3.10/dist-packages (from selenium) (2023.7.22)\n",
            "Requirement already satisfied: attrs>=20.1.0 in /usr/local/lib/python3.10/dist-packages (from trio~=0.17->selenium) (23.1.0)\n",
            "Requirement already satisfied: sortedcontainers in /usr/local/lib/python3.10/dist-packages (from trio~=0.17->selenium) (2.4.0)\n",
            "Requirement already satisfied: idna in /usr/local/lib/python3.10/dist-packages (from trio~=0.17->selenium) (3.4)\n",
            "Collecting outcome (from trio~=0.17->selenium)\n",
            "  Downloading outcome-1.3.0-py2.py3-none-any.whl (10 kB)\n",
            "Requirement already satisfied: sniffio in /usr/local/lib/python3.10/dist-packages (from trio~=0.17->selenium) (1.3.0)\n",
            "Requirement already satisfied: exceptiongroup>=1.0.0rc9 in /usr/local/lib/python3.10/dist-packages (from trio~=0.17->selenium) (1.1.3)\n",
            "Collecting wsproto>=0.14 (from trio-websocket~=0.9->selenium)\n",
            "  Downloading wsproto-1.2.0-py3-none-any.whl (24 kB)\n",
            "Requirement already satisfied: pysocks!=1.5.7,<2.0,>=1.5.6 in /usr/local/lib/python3.10/dist-packages (from urllib3[socks]<3,>=1.26->selenium) (1.7.1)\n",
            "Collecting h11<1,>=0.9.0 (from wsproto>=0.14->trio-websocket~=0.9->selenium)\n",
            "  Downloading h11-0.14.0-py3-none-any.whl (58 kB)\n",
            "\u001b[2K     \u001b[90m━━━━━━━━━━━━━━━━━━━━━━━━━━━━━━━━━━━━━━━━\u001b[0m \u001b[32m58.3/58.3 kB\u001b[0m \u001b[31m9.2 MB/s\u001b[0m eta \u001b[36m0:00:00\u001b[0m\n",
            "\u001b[?25hInstalling collected packages: outcome, h11, wsproto, trio, trio-websocket, selenium\n",
            "Successfully installed h11-0.14.0 outcome-1.3.0 selenium-4.14.0 trio-0.22.2 trio-websocket-0.11.1 wsproto-1.2.0\n"
          ]
        },
        {
          "name": "stderr",
          "output_type": "stream",
          "text": [
            "[nltk_data] Downloading package wordnet to /root/nltk_data...\n"
          ]
        }
      ],
      "source": [
        "from selenium import webdriver\n",
        "from selenium.webdriver.common.by import By\n",
        "import re\n",
        "import numpy as np\n",
        "import pandas as pd\n",
        "import matplotlib.pyplot as plt\n",
        "import requests as rq\n",
        "import numpy as np\n",
        "import time\n",
        "import pickle\n",
        "from io import BytesIO\n",
        "from PIL import Image\n",
        "from selenium import webdriver\n",
        "from selenium.webdriver.common.by import By\n",
        "from selenium.webdriver.common.keys import Keys\n",
        "from selenium.webdriver.common.action_chains import ActionChains\n",
        "from selenium.webdriver.support.ui import WebDriverWait\n",
        "from selenium.webdriver.support import expected_conditions as EC\n",
        "from collections import Counter\n",
        "import cv2\n",
        "import itertools\n",
        "import seaborn as sns\n",
        "from nltk.corpus import wordnet\n",
        "import nltk\n",
        "nltk.download('wordnet')\n",
        "from tqdm import tqdm\n",
        "import warnings\n",
        "warnings.filterwarnings(\"ignore\")"
      ]
    },
    {
      "cell_type": "markdown",
      "metadata": {
        "id": "axrnNlOgY5EJ"
      },
      "source": [
        "# Scrap des images pour un hashtag"
      ]
    },
    {
      "cell_type": "code",
      "execution_count": null,
      "metadata": {
        "id": "8JCHaTtcY5EO"
      },
      "outputs": [],
      "source": [
        "USERNAME = 'sosorezka@gmail.com'\n",
        "PASSWORD = 'sofia2001'"
      ]
    },
    {
      "cell_type": "code",
      "execution_count": null,
      "metadata": {
        "id": "VsUg0WeAdwTI"
      },
      "outputs": [],
      "source": [
        "import asyncio\n",
        "import aiohttp\n",
        "\n",
        "async def fetch_image(session, url):\n",
        "    async with session.get(url) as response:\n",
        "        if response.status == 200:\n",
        "            image_data = await response.read()\n",
        "            return image_data\n",
        "        else:\n",
        "            return None"
      ]
    },
    {
      "cell_type": "code",
      "execution_count": null,
      "metadata": {
        "id": "vOJJFy1JeU-Y"
      },
      "outputs": [],
      "source": [
        "async def scrap_by_hashtag(nb_max = 50, hashtag='chat'):\n",
        "  print(\"ok\")\n",
        "\n",
        "  options = webdriver.ChromeOptions()\n",
        "  options.headless = True  # Exécution sans interface graphique\n",
        "\n",
        "  # Initialiser le navigateur Chrome sans spécifier executable_path\n",
        "  driver = webdriver.Chrome(options=options)\n",
        "\n",
        "  # Accéder à la page de connexion de Pixelfed\n",
        "  login_url = 'https://pixelfed.social/login'\n",
        "  driver.get(login_url)\n",
        "\n",
        "  # Remplir le formulaire de connexion\n",
        "  username = USERNAME\n",
        "  password =  PASSWORD\n",
        "\n",
        "  username_field = driver.find_element(By.NAME, 'email')\n",
        "  password_field = driver.find_element(By.NAME, 'password')\n",
        "\n",
        "  username_field.send_keys(username)\n",
        "  password_field.send_keys(password)\n",
        "\n",
        "    # Soumettre le formulaire de connexion\n",
        "  login_button = driver.find_element(By.CSS_SELECTOR, \"button.btn.btn-primary.btn-block.btn-lg.font-weight-bold\")\n",
        "  ActionChains(driver).move_to_element(login_button).click().perform()\n",
        "\n",
        "  driver.implicitly_wait(10)\n",
        "\n",
        "    # Ouvrir une nouvelle fenêtre\n",
        "  new_window = driver.execute_script(\"window.open('https://pixelfed.social/i/web/hashtag/{}', 'new_window');\".format(hashtag))\n",
        "\n",
        "  # Changer la fenêtre active\n",
        "  driver.switch_to.window(driver.window_handles[-1])\n",
        "\n",
        "  liste_url = []\n",
        "  liste_img = []\n",
        "\n",
        "  async with aiohttp.ClientSession() as session:\n",
        "    tasks = []\n",
        "    while len(liste_url) < nb_max:\n",
        "      try:\n",
        "        driver.execute_script(\"window.scrollTo(0, document.body.scrollHeight);\")\n",
        "\n",
        "        time.sleep(1)\n",
        "\n",
        "        post =driver.find_element(By.CSS_SELECTOR, \"div.row.mx-0.hashtag-feed\")\n",
        "        # Trouver les images\n",
        "        images = post.find_elements(By.CSS_SELECTOR, \"img\")\n",
        "        for image in images:\n",
        "          image_url = image.get_attribute('src')\n",
        "          if image_url not in liste_url:\n",
        "            tasks.append(fetch_image(session, image_url))\n",
        "            print(len(tasks))\n",
        "            liste_url.append(image_url)\n",
        "\n",
        "      except Exception as e:\n",
        "        print(f\"Erreur: {e}\")\n",
        "\n",
        "    downloaded_images = await asyncio.gather(*tasks)\n",
        "\n",
        "    for image_data in downloaded_images:\n",
        "      if image_data is not None:\n",
        "        img = np.array(Image.open(BytesIO(image_data)))\n",
        "        if img.shape[2] == 3 and img.shape[0] > 512 and img.shape[1] > 512:\n",
        "            liste_img.append(img)\n",
        "\n",
        "    driver.close()\n",
        "    driver.switch_to.window(driver.window_handles[0])\n",
        "    driver.quit()\n",
        "\n",
        "    df = pd.DataFrame({'url': liste_url, 'image': liste_img})\n",
        "\n",
        "    with open(f'dataframe_{hashtag}.pkl', 'wb') as file:\n",
        "        pickle.dump(df, file)\n",
        "\n",
        "    return df\n"
      ]
    },
    {
      "cell_type": "code",
      "execution_count": null,
      "metadata": {
        "colab": {
          "base_uri": "https://localhost:8080/"
        },
        "id": "46Y2WQs1Y5ER",
        "outputId": "7a88a374-2680-47a0-fa92-af044e1dae98"
      },
      "outputs": [
        {
          "name": "stderr",
          "output_type": "stream",
          "text": [
            "Exception ignored in: <coroutine object scrap_by_hashtag at 0x7f0d27e4e180>\n",
            "Traceback (most recent call last):\n",
            "  File \"/usr/local/lib/python3.10/dist-packages/google/colab/_variable_inspector.py\", line 27, in run\n",
            "KeyError: '__builtins__'\n"
          ]
        }
      ],
      "source": [
        "test = scrap_by_hashtag(nb_max=1500, hashtag='bird')"
      ]
    },
    {
      "cell_type": "markdown",
      "metadata": {
        "id": "JiJZL4ejY5ES"
      },
      "source": [
        "# Test de l'enregistrement du pickle"
      ]
    },
    {
      "cell_type": "code",
      "execution_count": null,
      "metadata": {
        "id": "7NuDrROFY5ET"
      },
      "outputs": [],
      "source": [
        "with open('dataframe_cat.pkl', 'rb') as file :\n",
        "    df = pickle.load(file)\n",
        "df.head(2)"
      ]
    }
  ],
  "metadata": {
    "colab": {
      "provenance": []
    },
    "kernelspec": {
      "display_name": "Python 3 (ipykernel)",
      "language": "python",
      "name": "python3"
    },
    "language_info": {
      "codemirror_mode": {
        "name": "ipython",
        "version": 3
      },
      "file_extension": ".py",
      "mimetype": "text/x-python",
      "name": "python",
      "nbconvert_exporter": "python",
      "pygments_lexer": "ipython3",
      "version": "3.10.10"
    }
  },
  "nbformat": 4,
  "nbformat_minor": 0
}
