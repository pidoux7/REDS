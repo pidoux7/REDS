{
 "cells": [
  {
   "cell_type": "code",
   "execution_count": null,
   "metadata": {},
   "outputs": [],
   "source": [
    "import matplotlib.pyplot as plt\n",
    "import pickle\n"
   ]
  },
  {
   "cell_type": "code",
   "execution_count": null,
   "metadata": {},
   "outputs": [],
   "source": [
    "hashtag = \"mountains\""
   ]
  },
  {
   "cell_type": "code",
   "execution_count": null,
   "metadata": {},
   "outputs": [],
   "source": [
    "with open(f'dataframe_{hashtag}.pkl', 'rb') as file :\n",
    "    df = pickle.load(file)\n"
   ]
  },
  {
   "cell_type": "markdown",
   "metadata": {},
   "source": [
    "# Affichage de toutes les images récupérées"
   ]
  },
  {
   "cell_type": "code",
   "execution_count": null,
   "metadata": {},
   "outputs": [],
   "source": [
    "def affiche_images(liste_images, figsize=(20, 400)):\n",
    "\n",
    "    images_per_row = 5\n",
    "    num_rows = (len(liste_images) + images_per_row - 1) // images_per_row\n",
    "\n",
    "\n",
    "    fig, axs = plt.subplots(num_rows, images_per_row, figsize=figsize) \n",
    "\n",
    "    for i, image in enumerate(liste_images):\n",
    "        row = i // images_per_row\n",
    "        col = i % images_per_row\n",
    "        ax = axs[row, col]\n",
    "\n",
    "        ax.imshow(image)\n",
    "        ax.set_title(f\"Image {i}\")\n",
    "        ax.axis('off')\n",
    "\n",
    "    for i in range(len(liste_images), num_rows * images_per_row):\n",
    "        row = i // images_per_row\n",
    "        col = i % images_per_row\n",
    "        axs[row, col].axis('off')\n",
    "\n",
    "    plt.tight_layout()  \n",
    "    plt.show()"
   ]
  },
  {
   "cell_type": "code",
   "execution_count": null,
   "metadata": {},
   "outputs": [],
   "source": [
    "images = df.iloc[:]['image']\n",
    "\n",
    "affiche_images(images)\n",
    "\n"
   ]
  },
  {
   "cell_type": "markdown",
   "metadata": {},
   "source": [
    "# Affichage des images considérées mal classées"
   ]
  },
  {
   "cell_type": "code",
   "execution_count": null,
   "metadata": {},
   "outputs": [],
   "source": [
    "idx_liste_img_pb = [16,23,37,38,39,42,51,58,60,68, 69,70,72,76,78,80,85,88]\n",
    "liste_img_pb = df.iloc[idx_liste_img_pb]['image']"
   ]
  },
  {
   "cell_type": "code",
   "execution_count": null,
   "metadata": {},
   "outputs": [],
   "source": [
    "affiche_images(liste_img_pb, figsize=(15,15))"
   ]
  },
  {
   "cell_type": "markdown",
   "metadata": {},
   "source": [
    "# Enlève les images mal classées"
   ]
  },
  {
   "cell_type": "code",
   "execution_count": null,
   "metadata": {},
   "outputs": [],
   "source": [
    "df = df.drop(idx_liste_img_pb)"
   ]
  },
  {
   "cell_type": "code",
   "execution_count": null,
   "metadata": {},
   "outputs": [],
   "source": [
    "images = df.iloc[:]['image']\n",
    "affiche_images(images)"
   ]
  },
  {
   "cell_type": "code",
   "execution_count": null,
   "metadata": {},
   "outputs": [],
   "source": [
    "with open(f'dataframe_{hashtag}.pkl', 'wb') as file : \n",
    "    pickle.dump(df, file)\n"
   ]
  },
  {
   "cell_type": "code",
   "execution_count": null,
   "metadata": {},
   "outputs": [],
   "source": []
  }
 ],
 "metadata": {
  "kernelspec": {
   "display_name": "Python 3",
   "language": "python",
   "name": "python3"
  },
  "language_info": {
   "codemirror_mode": {
    "name": "ipython",
    "version": 3
   },
   "file_extension": ".py",
   "mimetype": "text/x-python",
   "name": "python",
   "nbconvert_exporter": "python",
   "pygments_lexer": "ipython3",
   "version": "3.10.12"
  }
 },
 "nbformat": 4,
 "nbformat_minor": 2
}
