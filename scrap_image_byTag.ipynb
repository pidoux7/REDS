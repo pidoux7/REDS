{
 "cells": [
  {
   "cell_type": "code",
   "execution_count": 1,
   "metadata": {},
   "outputs": [
    {
     "name": "stderr",
     "output_type": "stream",
     "text": [
      "[nltk_data] Downloading package wordnet to /home/pidoux/nltk_data...\n",
      "[nltk_data]   Package wordnet is already up-to-date!\n"
     ]
    }
   ],
   "source": [
    "from selenium import webdriver\n",
    "from selenium.webdriver.common.by import By\n",
    "import re\n",
    "import numpy as np\n",
    "import pandas as pd\n",
    "import matplotlib.pyplot as plt\n",
    "import requests as rq\n",
    "import numpy as np\n",
    "import time\n",
    "import pickle\n",
    "from io import BytesIO\n",
    "from PIL import Image\n",
    "from selenium import webdriver\n",
    "from selenium.webdriver.common.by import By\n",
    "from selenium.webdriver.common.keys import Keys\n",
    "from selenium.webdriver.common.action_chains import ActionChains\n",
    "from selenium.webdriver.support.ui import WebDriverWait\n",
    "from selenium.webdriver.support import expected_conditions as EC\n",
    "from collections import Counter\n",
    "import cv2\n",
    "import itertools\n",
    "import seaborn as sns\n",
    "from nltk.corpus import wordnet\n",
    "import nltk\n",
    "nltk.download('wordnet')\n",
    "from tqdm import tqdm\n",
    "import warnings\n",
    "warnings.filterwarnings(\"ignore\")"
   ]
  },
  {
   "cell_type": "markdown",
   "metadata": {},
   "source": [
    "# Scrap des images pour un hashtag"
   ]
  },
  {
   "cell_type": "code",
   "execution_count": 2,
   "metadata": {},
   "outputs": [],
   "source": [
    "USERNAME = 'sosorezka@gmail.com'\n",
    "PASSWORD = 'sofia2001'"
   ]
  },
  {
   "cell_type": "code",
   "execution_count": 3,
   "metadata": {},
   "outputs": [],
   "source": [
    "def scrap_by_hashtag(nb_max = 50, hashtag='chat'): \n",
    "\n",
    "    options = webdriver.ChromeOptions()\n",
    "    options.headless = True  # Exécution sans interface graphique\n",
    "\n",
    "    # Initialiser le navigateur Chrome sans spécifier executable_path\n",
    "    driver = webdriver.Chrome(options=options)\n",
    "\n",
    "    # Accéder à la page de connexion de Pixelfed\n",
    "    login_url = 'https://pixelfed.social/login'\n",
    "    driver.get(login_url)\n",
    "\n",
    "    # Remplir le formulaire de connexion\n",
    "    username = USERNAME\n",
    "    password =  PASSWORD\n",
    "\n",
    "    username_field = driver.find_element(By.NAME, 'email')\n",
    "    password_field = driver.find_element(By.NAME, 'password')\n",
    "\n",
    "    username_field.send_keys(username)\n",
    "    password_field.send_keys(password)\n",
    "\n",
    "    # Soumettre le formulaire de connexion\n",
    "    login_button = driver.find_element(By.CSS_SELECTOR, \"button.btn.btn-primary.btn-block.btn-lg.font-weight-bold\")\n",
    "    ActionChains(driver).move_to_element(login_button).click().perform()\n",
    "\n",
    "    driver.implicitly_wait(10)\n",
    "    \n",
    "    # Ouvrir une nouvelle fenêtre\n",
    "    new_window = driver.execute_script(\"window.open('https://pixelfed.social/i/web/hashtag/{}', 'new_window');\".format(hashtag))\n",
    "\n",
    "    # Changer la fenêtre active\n",
    "    driver.switch_to.window(driver.window_handles[-1])\n",
    "\n",
    "    liste_url = []\n",
    "    liste_img = []\n",
    "    pbar = tqdm(desc= 'while_loop', total=nb_max)\n",
    "    while len(liste_url)<nb_max :\n",
    "        \n",
    "        driver.execute_script(\"window.scrollTo(0, document.body.scrollHeight);\")\n",
    "        \n",
    "        time.sleep(1)\n",
    "        print(len(liste_url))\n",
    "        post =driver.find_element(By.CSS_SELECTOR, \"div.row.mx-0.hashtag-feed\")\n",
    "        #print(post)\n",
    "        # Trouver les images\n",
    "        images = post.find_elements(By.CSS_SELECTOR, \"img\")\n",
    "        val = 0\n",
    "        for image in tqdm(images) :\n",
    "            image_url = image.get_attribute('src')\n",
    "            if image_url not in liste_url : \n",
    "                try : \n",
    "                    response = rq.get(image_url)\n",
    "                    img = np.array(Image.open(BytesIO(response.content)))\n",
    "                    if img.shape[2]==3 and img.shape[0]>512 and img.shape[1]>512: #si l'image est en couleur et a une shape plus grande que 128x128\n",
    "                        liste_url.append(image_url)\n",
    "                        liste_img.append(img)\n",
    "                        print(len(liste_img))\n",
    "                        val+=1\n",
    "                        pbar.update(val)\n",
    "                except:\n",
    "                    print(\"erreur get\")\n",
    "            \n",
    "    df = pd.DataFrame({'url':liste_url, 'image':liste_img})\n",
    "    print(len(liste_url))\n",
    "    \n",
    "    # Fermer la fenêtre\n",
    "    driver.close()\n",
    "\n",
    "    # Récupérer la fenêtre principale\n",
    "    driver.switch_to.window(driver.window_handles[0])\n",
    "\n",
    "    # Fermer le navigateur\n",
    "    driver.quit()\n",
    "\n",
    "    with open(f'dataframe_{hashtag}.pkl', 'wb') as file : \n",
    "        pickle.dump(df, file)\n",
    "    return df"
   ]
  },
  {
   "cell_type": "code",
   "execution_count": 5,
   "metadata": {},
   "outputs": [],
   "source": [
    "test = scrap_by_hashtag(nb_max=200, hashtag='cat')"
   ]
  },
  {
   "cell_type": "markdown",
   "metadata": {},
   "source": [
    "# Test de l'enregistrement du pickle "
   ]
  },
  {
   "cell_type": "code",
   "execution_count": 11,
   "metadata": {},
   "outputs": [],
   "source": [
    "with open('dataframe_cat.pkl', 'rb') as file : \n",
    "    df = pickle.load(file)\n",
    "df.head(2)"
   ]
  }
 ],
 "metadata": {
  "kernelspec": {
   "display_name": "Python 3 (ipykernel)",
   "language": "python",
   "name": "python3"
  },
  "language_info": {
   "codemirror_mode": {
    "name": "ipython",
    "version": 3
   },
   "file_extension": ".py",
   "mimetype": "text/x-python",
   "name": "python",
   "nbconvert_exporter": "python",
   "pygments_lexer": "ipython3",
   "version": "3.10.12"
  }
 },
 "nbformat": 4,
 "nbformat_minor": 2
}
